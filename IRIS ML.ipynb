{
  "nbformat": 4,
  "nbformat_minor": 0,
  "metadata": {
    "colab": {
      "provenance": []
    },
    "kernelspec": {
      "name": "python3",
      "display_name": "Python 3"
    },
    "language_info": {
      "name": "python"
    }
  },
  "cells": [
    {
      "cell_type": "code",
      "execution_count": null,
      "metadata": {
        "id": "hIDnu4efkkWw",
        "colab": {
          "base_uri": "https://localhost:8080/"
        },
        "outputId": "e6fe3423-aa85-4541-e672-323524740d2e"
      },
      "outputs": [
        {
          "output_type": "stream",
          "name": "stdout",
          "text": [
            "Virginica\n"
          ]
        }
      ],
      "source": [
        "#to predict using sample data\n",
        "from sklearn.svm import SVC\n",
        "from sklearn.datasets import load_iris\n",
        "iris=load_iris()\n",
        "x=iris.data\n",
        "y=iris.target\n",
        "ml=SVC()\n",
        "ml.fit(x,y)\n",
        "result= ml.predict([[6.3,3.3,6.0,2.5]])\n",
        "\n",
        "if result==0:\n",
        "  print(\"Setosa\")\n",
        "elif result==1:\n",
        "  print(\"Versicolor\")\n",
        "elif result==2:\n",
        "  print(\"Virginica\")\n",
        "else:\n",
        "  print(\"Invalid\")"
      ]
    },
    {
      "cell_type": "code",
      "source": [
        "#to test the accuracy\n",
        "from sklearn.model_selection import train_test_split\n",
        "from sklearn.metrics import accuracy_score\n",
        "iris=load_iris()\n",
        "x=iris.data\n",
        "y=iris.target\n",
        "x_train,x_test,y_train,y_test=train_test_split(x,y,test_size=0.3,random_state=1)\n",
        "ml=SVC()\n",
        "ml.fit(x_train,y_train)\n",
        "result=ml.predict(x_test)\n",
        "print(result)\n",
        "score=accuracy_score(result,y_test)\n",
        "print(score)"
      ],
      "metadata": {
        "colab": {
          "base_uri": "https://localhost:8080/"
        },
        "id": "NQzKHiZimafl",
        "outputId": "ee641db8-52c7-404d-ecc3-b494a55360b8"
      },
      "execution_count": null,
      "outputs": [
        {
          "output_type": "stream",
          "name": "stdout",
          "text": [
            "[0 1 1 0 2 1 2 0 0 2 1 0 2 1 1 0 1 1 0 0 1 1 2 0 2 1 0 0 1 2 1 2 1 2 2 0 1\n",
            " 0 1 2 2 0 2 2 1]\n",
            "0.9777777777777777\n"
          ]
        }
      ]
    }
  ]
}